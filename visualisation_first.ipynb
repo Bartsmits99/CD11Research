{
 "cells": [
  {
   "cell_type": "code",
   "execution_count": 36,
   "metadata": {
    "collapsed": false
   },
   "outputs": [
    {
     "data": {
      "text/html": [
       "        <script type=\"text/javascript\">\n",
       "        window.PlotlyConfig = {MathJaxConfig: 'local'};\n",
       "        if (window.MathJax) {MathJax.Hub.Config({SVG: {font: \"STIX-Web\"}});}\n",
       "        if (typeof require !== 'undefined') {\n",
       "        require.undef(\"plotly\");\n",
       "        requirejs.config({\n",
       "            paths: {\n",
       "                'plotly': ['https://cdn.plot.ly/plotly-latest.min']\n",
       "            }\n",
       "        });\n",
       "        require(['plotly'], function(Plotly) {\n",
       "            window._Plotly = Plotly;\n",
       "        });\n",
       "        }\n",
       "        </script>\n",
       "        "
      ]
     },
     "execution_count": 36,
     "metadata": {
     },
     "output_type": "execute_result"
    }
   ],
   "source": [
    "import pickle\n",
    "\n",
    "#importing Pandas \n",
    "import pandas as pd\n",
    "#importing plotly and cufflinks in offline mode\n",
    "import cufflinks as cf\n",
    "import plotly.offline\n",
    "cf.go_offline()\n",
    "cf.set_config_file(offline=False, world_readable=True)\n",
    "\n",
    "from flightObj import Flight;\n",
    "\n"
   ]
  },
  {
   "cell_type": "code",
   "execution_count": 37,
   "metadata": {
    "collapsed": false
   },
   "outputs": [
   ],
   "source": [
    "with open('data/[21_M].pkl', 'rb') as f:\n",
    "    se_21_M = pickle.load(f)"
   ]
  },
  {
   "cell_type": "code",
   "execution_count": 38,
   "metadata": {
    "collapsed": false
   },
   "outputs": [
    {
     "name": "stdout",
     "output_type": "stream",
     "text": [
      "        FLIGHT_ID    X    Y  MODE_C                 TIME  TPLUS  VEL_X  VEL_Y  \\\n",
      "203714    5171156   20  -54    -1.0  22-10-2010 12:29:21      0    NaN    NaN   \n",
      "203715    5171156    6  -60    -1.0  22-10-2010 12:29:26      5  -3.20  -1.40   \n",
      "203716    5171156  -12  -68    -1.0  22-10-2010 12:29:31     10  -3.40  -2.00   \n",
      "203717    5171156  -28  -80    -1.0  22-10-2010 12:29:36     15  -4.22  -2.67   \n",
      "203718    5171156  -50  -92    -1.0  22-10-2010 12:29:40     19  -4.89  -2.89   \n",
      "...           ...  ...  ...     ...                  ...    ...    ...    ...   \n",
      "75793     5171106 -256  246    -1.0  22-10-2010 12:03:31   1538   0.00  -2.00   \n",
      "75794     5171106 -256  238    -1.0  22-10-2010 12:03:36   1543   0.40  -0.80   \n",
      "75795     5171106 -252  238    -1.0  22-10-2010 12:03:41   1548   0.44  -0.67   \n",
      "75796     5171106 -252  232    -1.0  22-10-2010 12:03:45   1552  -0.22  -1.56   \n",
      "75797     5171106 -254  224    -1.0  22-10-2010 12:03:50   1557    NaN    NaN   \n",
      "\n",
      "        VEL_Z  VEL_TOT  \n",
      "203714    NaN      NaN  \n",
      "203715    0.0     3.49  \n",
      "203716    0.0     3.94  \n",
      "203717    0.0     4.99  \n",
      "203718    0.0     5.68  \n",
      "...       ...      ...  \n",
      "75793     0.0     2.00  \n",
      "75794     0.0     0.89  \n",
      "75795     0.0     0.80  \n",
      "75796     0.0     1.57  \n",
      "75797     NaN      NaN  \n",
      "\n",
      "[5297 rows x 10 columns]\n"
     ]
    }
   ],
   "source": [
    "d = [flight.ds for flight in se_21_M]\n",
    "df = pd.concat(d)\n",
    "\n",
    "print(df)"
   ]
  },
  {
   "cell_type": "code",
   "execution_count": 41,
   "metadata": {
    "collapsed": false
   },
   "outputs": [
    {
     "name": "stderr",
     "output_type": "stream",
     "text": [
      "WARNING: 1 intermediate output message was discarded.\n"
     ]
    }
   ],
   "source": [
   ]
  }
 ],
 "metadata": {
  "kernelspec": {
   "display_name": "Python 3 (system-wide)",
   "language": "python",
   "metadata": {
    "cocalc": {
     "description": "Python 3 programming language",
     "priority": 100,
     "url": "https://www.python.org/"
    }
   },
   "name": "python3"
  },
  "language_info": {
   "codemirror_mode": {
    "name": "ipython",
    "version": 3
   },
   "file_extension": ".py",
   "mimetype": "text/x-python",
   "name": "python",
   "nbconvert_exporter": "python",
   "pygments_lexer": "ipython3",
   "version": "3.6.9"
  }
 },
 "nbformat": 4,
 "nbformat_minor": 0
}