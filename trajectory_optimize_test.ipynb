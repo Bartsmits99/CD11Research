{
 "cells": [
  {
   "cell_type": "code",
   "execution_count": 126,
   "metadata": {
    "collapsed": false
   },
   "outputs": [
   ],
   "source": [
    "import pickle\n",
    "\n",
    "import numpy as np\n",
    "import pandas as pd\n",
    "\n",
    "import random\n",
    "\n",
    "import plotly.graph_objects as go\n",
    "\n",
    "from scipy import interpolate\n",
    "\n",
    "from rdp import rdp\n",
    "\n",
    "from flightObj import Flight;"
   ]
  },
  {
   "cell_type": "code",
   "execution_count": 127,
   "metadata": {
    "collapsed": false
   },
   "outputs": [
   ],
   "source": [
    "with open('data/[21_S].pkl', 'rb') as f:\n",
    "    se_21_S = pickle.load(f)\n",
    "with open('data/[21_T_A320].pkl', 'rb') as f:\n",
    "    se_21_T = pickle.load(f)\n",
    "    \n",
    "flights = se_21_T"
   ]
  },
  {
   "cell_type": "code",
   "execution_count": 128,
   "metadata": {
    "collapsed": false
   },
   "outputs": [
   ],
   "source": [
    "flight = flights[0]\n",
    "ds = flight.ds"
   ]
  },
  {
   "cell_type": "code",
   "execution_count": 154,
   "metadata": {
    "collapsed": false
   },
   "outputs": [
    {
     "name": "stdout",
     "output_type": "stream",
     "text": [
      "20  instead of  263\n"
     ]
    }
   ],
   "source": [
    "xt = ds['TPLUS']\n",
    "yt = ds['Y']\n",
    "zt = ds['MODE_C'].fillna(0)\n",
    "\n",
    "t = pd.concat([xt,yt,zt], axis=1)\n",
    "\n",
    "r = pd.DataFrame(rdp(t, epsilon=5), columns=['TPLUS', 'Y', 'MODE_C'])\n",
    "print(len(r), ' instead of ', len(t))\n",
    "\n",
    "c = t.sample(20).sort_values('TPLUS')\n",
    "\n",
    "xc = c['TPLUS']\n",
    "yc = c['Y'].to_list()\n",
    "zc = c['MODE_C'].to_list()\n",
    "\n",
    "\n",
    "\n",
    "\n",
    "xn = range(0,max(xt),5)\n"
   ]
  },
  {
   "cell_type": "code",
   "execution_count": 155,
   "metadata": {
    "collapsed": false
   },
   "outputs": [
   ],
   "source": [
    "yn = interpolate.pchip_interpolate(xc, yc, xn)\n",
    "zn = interpolate.pchip_interpolate(xc, zc, xn)"
   ]
  },
  {
   "cell_type": "code",
   "execution_count": 156,
   "metadata": {
    "collapsed": false
   },
   "outputs": [
    {
     "name": "stdout",
     "output_type": "stream",
     "text": [
      "17  instead of  252\n"
     ]
    }
   ],
   "source": [
    "n = pd.DataFrame({'TPLUS':xn, 'Y':yn, 'MODE_C':zn})\n",
    "#print(n)\n",
    "o = pd.DataFrame(rdp(n, epsilon=5), columns=['TPLUS', 'Y', 'MODE_C'])\n",
    "#print(o)\n",
    "print(len(o), ' instead of ', len(n))"
   ]
  },
  {
   "cell_type": "code",
   "execution_count": 158,
   "metadata": {
    "collapsed": false,
    "scrolled": true
   },
   "outputs": [
    {
     "data": {
      "text/html": "<html>\n<head><meta charset=\"utf-8\" /></head>\n<body>\n    <div>\n            <script src=\"https://cdnjs.cloudflare.com/ajax/libs/mathjax/2.7.5/MathJax.js?config=TeX-AMS-MML_SVG\"></script><script type=\"text/javascript\">if (window.MathJax) {MathJax.Hub.Config({SVG: {font: \"STIX-Web\"}});}</script>\n                <script type=\"text/javascript\">window.PlotlyConfig = {MathJaxConfig: 'local'};</script>\n        <script src=\"https://cdn.plot.ly/plotly-latest.min.js\"></script>    \n            <div id=\"72494c11-c1d6-4551-8ebe-9913a134c531\" class=\"plotly-graph-div\" style=\"height:525px; width:100%;\"></div>\n            <script type=\"text/javascript\">\n                \n                    window.PLOTLYENV=window.PLOTLYENV || {};\n                    \n                if (document.getElementById(\"72494c11-c1d6-4551-8ebe-9913a134c531\")) {\n                    Plotly.newPlot(\n                        '72494c11-c1d6-4551-8ebe-9913a134c531',\n                        [{\"line\": {\"width\": 2}, \"marker\": {\"line\": {\"width\": 0}}, \"mode\": \"lines\", \"name\": \"true data\", \"type\": \"scatter3d\", \"x\": [0, 5, 10, 15, 19, 24, 29, 34, 38, 43, 48, 53, 58, 62, 67, 72, 77, 82, 86, 91, 96, 101, 106, 110, 115, 120, 125, 130, 134, 139, 144, 149, 154, 159, 163, 168, 173, 178, 182, 187, 192, 197, 202, 206, 211, 216, 221, 225, 230, 235, 240, 245, 250, 254, 259, 264, 269, 274, 278, 283, 288, 293, 298, 302, 307, 312, 317, 322, 326, 331, 336, 341, 346, 351, 356, 360, 365, 370, 375, 379, 384, 389, 394, 399, 403, 408, 413, 418, 423, 428, 432, 437, 442, 447, 452, 456, 461, 466, 471, 476, 480, 485, 490, 495, 500, 504, 509, 514, 519, 524, 528, 533, 538, 543, 548, 552, 557, 562, 567, 572, 576, 581, 586, 591, 596, 601, 605, 610, 615, 620, 625, 629, 634, 639, 644, 649, 653, 658, 663, 668, 673, 677, 682, 687, 692, 697, 701, 706, 711, 716, 721, 725, 730, 735, 740, 745, 749, 754, 759, 764, 769, 773, 778, 783, 788, 793, 797, 802, 807, 812, 817, 822, 826, 831, 836, 841, 846, 850, 855, 860, 865, 869, 874, 879, 884, 889, 893, 898, 903, 908, 913, 918, 922, 927, 932, 937, 942, 946, 951, 956, 961, 965, 970, 975, 980, 985, 990, 994, 999, 1004, 1009, 1013, 1018, 1023, 1028, 1033, 1038, 1042, 1047, 1052, 1057, 1062, 1066, 1071, 1076, 1081, 1086, 1090, 1095, 1100, 1105, 1110, 1114, 1119, 1124, 1129, 1134, 1138, 1143, 1148, 1153, 1158, 1162, 1167, 1172, 1177, 1182, 1187, 1191, 1196, 1201, 1206, 1211, 1215, 1220, 1225, 1230, 1235, 1239, 1244, 1249, 1254, 1259], \"y\": [-48, -52, -62, -78, -92, -114, -126, -140, -150, -160, -172, -182, -194, -206, -220, -232, -246, -260, -274, -290, -308, -340, -370, -406, -444, -484, -524, -558, -590, -620, -646, -666, -690, -714, -734, -754, -772, -788, -804, -822, -838, -856, -874, -896, -918, -940, -936, -944, -938, -928, -908, -880, -848, -812, -772, -730, -690, -652, -612, -570, -526, -482, -438, -392, -344, -302, -256, -210, -164, -118, -68, -22, 26, 72, 120, 168, 222, 274, 330, 390, 448, 508, 566, 626, 686, 750, 810, 868, 928, 990, 1050, 1112, 1172, 1234, 1298, 1360, 1422, 1484, 1546, 1608, 1670, 1734, 1796, 1858, 1922, 1986, 2048, 2112, 2176, 2240, 2304, 2370, 2434, 2498, 2564, 2628, 2694, 2758, 2824, 2890, 2956, 3022, 3088, 3160, 3226, 3284, 3346, 3404, 3456, 3506, 3552, 3596, 3640, 3686, 3734, 3780, 3824, 3872, 3918, 3964, 4012, 4058, 4106, 4154, 4202, 4250, 4298, 4346, 4394, 4444, 4492, 4540, 4588, 4638, 4686, 4736, 4784, 4834, 4882, 4932, 4982, 5034, 5086, 5142, 5196, 5250, 5304, 5360, 5414, 5470, 5524, 5580, 5634, 5690, 5744, 5798, 5852, 5908, 5962, 6018, 6072, 6126, 6182, 6236, 6290, 6344, 6398, 6454, 6508, 6562, 6616, 6672, 6728, 6786, 6840, 6896, 6952, 7010, 7064, 7120, 7178, 7234, 7288, 7344, 7400, 7456, 7514, 7570, 7624, 7680, 7736, 7792, 7848, 7902, 7958, 8014, 8068, 8124, 8178, 8234, 8288, 8344, 8400, 8454, 8510, 8566, 8620, 8676, 8730, 8786, 8840, 8896, 8952, 9006, 9062, 9118, 9174, 9230, 9284, 9340, 9396, 9450, 9506, 9564, 9620, 9674, 9730, 9784, 9840, 9896, 9950, 10006, 10062, 10116, 10172, 10226, 10282, 10336, 10392, 10446, 10500, 10554, 10610], \"z\": [0.0, -1.0, -1.0, -1.0, -1.0, 2.0, 4.0, 6.0, 10.0, 12.0, 14.0, 16.0, 18.0, 19.0, 20.0, 21.0, 22.0, 24.0, 25.0, 26.0, 27.0, 28.0, 29.0, 30.0, 32.0, 34.0, 37.0, 39.0, 42.0, 46.0, 50.0, 53.0, 54.0, 56.0, 58.0, 61.0, 64.0, 67.0, 69.0, 72.0, 75.0, 76.0, 77.0, 79.0, 80.0, 81.0, 83.0, 84.0, 86.0, 89.0, 93.0, 96.0, 98.0, 102.0, 104.0, 107.0, 109.0, 110.0, 111.0, 112.0, 113.0, 114.0, 115.0, 117.0, 118.0, 121.0, 122.0, 125.0, 127.0, 130.0, 132.0, 134.0, 136.0, 138.0, 141.0, 143.0, 146.0, 148.0, 149.0, 151.0, 153.0, 155.0, 157.0, 160.0, 162.0, 164.0, 166.0, 168.0, 170.0, 172.0, 173.0, 175.0, 176.0, 179.0, 181.0, 184.0, 186.0, 187.0, 188.0, 190.0, 192.0, 194.0, 196.0, 198.0, 199.0, 201.0, 203.0, 204.0, 206.0, 208.0, 209.0, 210.0, 212.0, 214.0, 216.0, 217.0, 220.0, 221.0, 222.0, 223.0, 224.0, 226.0, 227.0, 229.0, 230.0, 231.0, 233.0, 235.0, 236.0, 238.0, 240.0, 242.0, 243.0, 244.0, 246.0, 246.0, 248.0, 249.0, 250.0, 251.0, 252.0, 253.0, 255.0, 256.0, 257.0, 258.0, 260.0, 261.0, 262.0, 263.0, 264.0, 266.0, 266.0, 268.0, 268.0, 270.0, 271.0, 272.0, 274.0, 275.0, 276.0, 277.0, 279.0, 280.0, 281.0, 282.0, 282.0, 283.0, 284.0, 284.0, 286.0, 287.0, 288.0, 289.0, 290.0, 291.0, 292.0, 293.0, 294.0, 295.0, 296.0, 297.0, 298.0, 300.0, 301.0, 302.0, 302.0, 303.0, 304.0, 305.0, 306.0, 306.0, 307.0, 308.0, 308.0, 309.0, 310.0, 311.0, 312.0, 312.0, 313.0, 314.0, 316.0, 318.0, 319.0, 320.0, 321.0, 322.0, 324.0, 325.0, 326.0, 328.0, 329.0, 330.0, 331.0, 332.0, 334.0, 334.0, 335.0, 335.0, 336.0, 337.0, 338.0, 340.0, 341.0, 342.0, 344.0, 344.0, 345.0, 345.0, 346.0, 347.0, 348.0, 349.0, 350.0, 351.0, 352.0, 353.0, 354.0, 355.0, 356.0, 357.0, 358.0, 358.0, 358.0, 359.0, 360.0, 360.0, 360.0, 361.0, 362.0, 364.0, 366.0, 367.0, 368.0, 369.0, 370.0, 371.0, 372.0, 373.0, 374.0, 374.0, 374.0]}, {\"line\": {\"width\": 2}, \"marker\": {\"line\": {\"width\": 0}, \"size\": 2}, \"mode\": \"lines+markers\", \"name\": \"PCHIP over RDP\", \"type\": \"scatter3d\", \"x\": [0.0, 40.0, 65.0, 90.0, 95.0, 105.0, 130.0, 170.0, 210.0, 230.0, 250.0, 305.0, 390.0, 565.0, 640.0, 775.0, 1255.0], \"y\": [-20304.21965350087, -5889.249110320285, -1953.2260518723547, -525.4526309623186, -438.6381646969231, -389.38600383697263, -558.0, -708.4819823382101, -810.4632133913271, -838.2836430736785, -848.0, -372.1324021889618, 562.4422456366638, 2824.3878073133287, 3696.470776991496, 5055.0274100300685, 10582.59872559056], \"z\": [-66.11529347645819, -15.653550863723698, 4.805650340039305, 19.8319234141371, 22.411803037842702, 27.310970119191488, 39.0, 57.92995943186182, 77.2877286312647, 87.41663326935384, 98.0, 118.79683697464257, 147.21516649008112, 217.89317456348635, 244.30980788476887, 277.1004080583921, 375.2012027649949]}],\n                        {\"template\": {\"data\": {\"bar\": [{\"error_x\": {\"color\": \"#2a3f5f\"}, \"error_y\": {\"color\": \"#2a3f5f\"}, \"marker\": {\"line\": {\"color\": \"#E5ECF6\", \"width\": 0.5}}, \"type\": \"bar\"}], \"barpolar\": [{\"marker\": {\"line\": {\"color\": \"#E5ECF6\", \"width\": 0.5}}, \"type\": \"barpolar\"}], \"carpet\": [{\"aaxis\": {\"endlinecolor\": \"#2a3f5f\", \"gridcolor\": \"white\", \"linecolor\": \"white\", \"minorgridcolor\": \"white\", \"startlinecolor\": \"#2a3f5f\"}, \"baxis\": {\"endlinecolor\": \"#2a3f5f\", \"gridcolor\": \"white\", \"linecolor\": \"white\", \"minorgridcolor\": \"white\", \"startlinecolor\": \"#2a3f5f\"}, \"type\": \"carpet\"}], \"choropleth\": [{\"colorbar\": {\"outlinewidth\": 0, \"ticks\": \"\"}, \"type\": \"choropleth\"}], \"contour\": [{\"colorbar\": {\"outlinewidth\": 0, \"ticks\": \"\"}, \"colorscale\": [[0.0, \"#0d0887\"], [0.1111111111111111, \"#46039f\"], [0.2222222222222222, \"#7201a8\"], [0.3333333333333333, \"#9c179e\"], [0.4444444444444444, \"#bd3786\"], [0.5555555555555556, \"#d8576b\"], [0.6666666666666666, \"#ed7953\"], [0.7777777777777778, \"#fb9f3a\"], [0.8888888888888888, \"#fdca26\"], [1.0, \"#f0f921\"]], \"type\": \"contour\"}], \"contourcarpet\": [{\"colorbar\": {\"outlinewidth\": 0, \"ticks\": \"\"}, \"type\": \"contourcarpet\"}], \"heatmap\": [{\"colorbar\": {\"outlinewidth\": 0, \"ticks\": \"\"}, \"colorscale\": [[0.0, \"#0d0887\"], [0.1111111111111111, \"#46039f\"], [0.2222222222222222, \"#7201a8\"], [0.3333333333333333, \"#9c179e\"], [0.4444444444444444, \"#bd3786\"], [0.5555555555555556, \"#d8576b\"], [0.6666666666666666, \"#ed7953\"], [0.7777777777777778, \"#fb9f3a\"], [0.8888888888888888, \"#fdca26\"], [1.0, \"#f0f921\"]], \"type\": \"heatmap\"}], \"heatmapgl\": [{\"colorbar\": {\"outlinewidth\": 0, \"ticks\": \"\"}, \"colorscale\": [[0.0, \"#0d0887\"], [0.1111111111111111, \"#46039f\"], [0.2222222222222222, \"#7201a8\"], [0.3333333333333333, \"#9c179e\"], [0.4444444444444444, \"#bd3786\"], [0.5555555555555556, \"#d8576b\"], [0.6666666666666666, \"#ed7953\"], [0.7777777777777778, \"#fb9f3a\"], [0.8888888888888888, \"#fdca26\"], [1.0, \"#f0f921\"]], \"type\": \"heatmapgl\"}], \"histogram\": [{\"marker\": {\"colorbar\": {\"outlinewidth\": 0, \"ticks\": \"\"}}, \"type\": \"histogram\"}], \"histogram2d\": [{\"colorbar\": {\"outlinewidth\": 0, \"ticks\": \"\"}, \"colorscale\": [[0.0, \"#0d0887\"], [0.1111111111111111, \"#46039f\"], [0.2222222222222222, \"#7201a8\"], [0.3333333333333333, \"#9c179e\"], [0.4444444444444444, \"#bd3786\"], [0.5555555555555556, \"#d8576b\"], [0.6666666666666666, \"#ed7953\"], [0.7777777777777778, \"#fb9f3a\"], [0.8888888888888888, \"#fdca26\"], [1.0, \"#f0f921\"]], \"type\": \"histogram2d\"}], \"histogram2dcontour\": [{\"colorbar\": {\"outlinewidth\": 0, \"ticks\": \"\"}, \"colorscale\": [[0.0, \"#0d0887\"], [0.1111111111111111, \"#46039f\"], [0.2222222222222222, \"#7201a8\"], [0.3333333333333333, \"#9c179e\"], [0.4444444444444444, \"#bd3786\"], [0.5555555555555556, \"#d8576b\"], [0.6666666666666666, \"#ed7953\"], [0.7777777777777778, \"#fb9f3a\"], [0.8888888888888888, \"#fdca26\"], [1.0, \"#f0f921\"]], \"type\": \"histogram2dcontour\"}], \"mesh3d\": [{\"colorbar\": {\"outlinewidth\": 0, \"ticks\": \"\"}, \"type\": \"mesh3d\"}], \"parcoords\": [{\"line\": {\"colorbar\": {\"outlinewidth\": 0, \"ticks\": \"\"}}, \"type\": \"parcoords\"}], \"pie\": [{\"automargin\": true, \"type\": \"pie\"}], \"scatter\": [{\"marker\": {\"colorbar\": {\"outlinewidth\": 0, \"ticks\": \"\"}}, \"type\": \"scatter\"}], \"scatter3d\": [{\"line\": {\"colorbar\": {\"outlinewidth\": 0, \"ticks\": \"\"}}, \"marker\": {\"colorbar\": {\"outlinewidth\": 0, \"ticks\": \"\"}}, \"type\": \"scatter3d\"}], \"scattercarpet\": [{\"marker\": {\"colorbar\": {\"outlinewidth\": 0, \"ticks\": \"\"}}, \"type\": \"scattercarpet\"}], \"scattergeo\": [{\"marker\": {\"colorbar\": {\"outlinewidth\": 0, \"ticks\": \"\"}}, \"type\": \"scattergeo\"}], \"scattergl\": [{\"marker\": {\"colorbar\": {\"outlinewidth\": 0, \"ticks\": \"\"}}, \"type\": \"scattergl\"}], \"scattermapbox\": [{\"marker\": {\"colorbar\": {\"outlinewidth\": 0, \"ticks\": \"\"}}, \"type\": \"scattermapbox\"}], \"scatterpolar\": [{\"marker\": {\"colorbar\": {\"outlinewidth\": 0, \"ticks\": \"\"}}, \"type\": \"scatterpolar\"}], \"scatterpolargl\": [{\"marker\": {\"colorbar\": {\"outlinewidth\": 0, \"ticks\": \"\"}}, \"type\": \"scatterpolargl\"}], \"scatterternary\": [{\"marker\": {\"colorbar\": {\"outlinewidth\": 0, \"ticks\": \"\"}}, \"type\": \"scatterternary\"}], \"surface\": [{\"colorbar\": {\"outlinewidth\": 0, \"ticks\": \"\"}, \"colorscale\": [[0.0, \"#0d0887\"], [0.1111111111111111, \"#46039f\"], [0.2222222222222222, \"#7201a8\"], [0.3333333333333333, \"#9c179e\"], [0.4444444444444444, \"#bd3786\"], [0.5555555555555556, \"#d8576b\"], [0.6666666666666666, \"#ed7953\"], [0.7777777777777778, \"#fb9f3a\"], [0.8888888888888888, \"#fdca26\"], [1.0, \"#f0f921\"]], \"type\": \"surface\"}], \"table\": [{\"cells\": {\"fill\": {\"color\": \"#EBF0F8\"}, \"line\": {\"color\": \"white\"}}, \"header\": {\"fill\": {\"color\": \"#C8D4E3\"}, \"line\": {\"color\": \"white\"}}, \"type\": \"table\"}]}, \"layout\": {\"annotationdefaults\": {\"arrowcolor\": \"#2a3f5f\", \"arrowhead\": 0, \"arrowwidth\": 1}, \"coloraxis\": {\"colorbar\": {\"outlinewidth\": 0, \"ticks\": \"\"}}, \"colorscale\": {\"diverging\": [[0, \"#8e0152\"], [0.1, \"#c51b7d\"], [0.2, \"#de77ae\"], [0.3, \"#f1b6da\"], [0.4, \"#fde0ef\"], [0.5, \"#f7f7f7\"], [0.6, \"#e6f5d0\"], [0.7, \"#b8e186\"], [0.8, \"#7fbc41\"], [0.9, \"#4d9221\"], [1, \"#276419\"]], \"sequential\": [[0.0, \"#0d0887\"], [0.1111111111111111, \"#46039f\"], [0.2222222222222222, \"#7201a8\"], [0.3333333333333333, \"#9c179e\"], [0.4444444444444444, \"#bd3786\"], [0.5555555555555556, \"#d8576b\"], [0.6666666666666666, \"#ed7953\"], [0.7777777777777778, \"#fb9f3a\"], [0.8888888888888888, \"#fdca26\"], [1.0, \"#f0f921\"]], \"sequentialminus\": [[0.0, \"#0d0887\"], [0.1111111111111111, \"#46039f\"], [0.2222222222222222, \"#7201a8\"], [0.3333333333333333, \"#9c179e\"], [0.4444444444444444, \"#bd3786\"], [0.5555555555555556, \"#d8576b\"], [0.6666666666666666, \"#ed7953\"], [0.7777777777777778, \"#fb9f3a\"], [0.8888888888888888, \"#fdca26\"], [1.0, \"#f0f921\"]]}, \"colorway\": [\"#636efa\", \"#EF553B\", \"#00cc96\", \"#ab63fa\", \"#FFA15A\", \"#19d3f3\", \"#FF6692\", \"#B6E880\", \"#FF97FF\", \"#FECB52\"], \"font\": {\"color\": \"#2a3f5f\"}, \"geo\": {\"bgcolor\": \"white\", \"lakecolor\": \"white\", \"landcolor\": \"#E5ECF6\", \"showlakes\": true, \"showland\": true, \"subunitcolor\": \"white\"}, \"hoverlabel\": {\"align\": \"left\"}, \"hovermode\": \"closest\", \"mapbox\": {\"style\": \"light\"}, \"paper_bgcolor\": \"white\", \"plot_bgcolor\": \"#E5ECF6\", \"polar\": {\"angularaxis\": {\"gridcolor\": \"white\", \"linecolor\": \"white\", \"ticks\": \"\"}, \"bgcolor\": \"#E5ECF6\", \"radialaxis\": {\"gridcolor\": \"white\", \"linecolor\": \"white\", \"ticks\": \"\"}}, \"scene\": {\"xaxis\": {\"backgroundcolor\": \"#E5ECF6\", \"gridcolor\": \"white\", \"gridwidth\": 2, \"linecolor\": \"white\", \"showbackground\": true, \"ticks\": \"\", \"zerolinecolor\": \"white\"}, \"yaxis\": {\"backgroundcolor\": \"#E5ECF6\", \"gridcolor\": \"white\", \"gridwidth\": 2, \"linecolor\": \"white\", \"showbackground\": true, \"ticks\": \"\", \"zerolinecolor\": \"white\"}, \"zaxis\": {\"backgroundcolor\": \"#E5ECF6\", \"gridcolor\": \"white\", \"gridwidth\": 2, \"linecolor\": \"white\", \"showbackground\": true, \"ticks\": \"\", \"zerolinecolor\": \"white\"}}, \"shapedefaults\": {\"line\": {\"color\": \"#2a3f5f\"}}, \"ternary\": {\"aaxis\": {\"gridcolor\": \"white\", \"linecolor\": \"white\", \"ticks\": \"\"}, \"baxis\": {\"gridcolor\": \"white\", \"linecolor\": \"white\", \"ticks\": \"\"}, \"bgcolor\": \"#E5ECF6\", \"caxis\": {\"gridcolor\": \"white\", \"linecolor\": \"white\", \"ticks\": \"\"}}, \"title\": {\"x\": 0.05}, \"xaxis\": {\"automargin\": true, \"gridcolor\": \"white\", \"linecolor\": \"white\", \"ticks\": \"\", \"title\": {\"standoff\": 15}, \"zerolinecolor\": \"white\", \"zerolinewidth\": 2}, \"yaxis\": {\"automargin\": true, \"gridcolor\": \"white\", \"linecolor\": \"white\", \"ticks\": \"\", \"title\": {\"standoff\": 15}, \"zerolinecolor\": \"white\", \"zerolinewidth\": 2}}}},\n                        {\"responsive\": true}\n                    ).then(function(){\n                            \nvar gd = document.getElementById('72494c11-c1d6-4551-8ebe-9913a134c531');\nvar x = new MutationObserver(function (mutations, observer) {{\n        var display = window.getComputedStyle(gd).display;\n        if (!display || display === 'none') {{\n            console.log([gd, 'removed!']);\n            Plotly.purge(gd);\n            observer.disconnect();\n        }}\n}});\n\n// Listen for the removal of the full notebook cells\nvar notebookContainer = gd.closest('#notebook-container');\nif (notebookContainer) {{\n    x.observe(notebookContainer, {childList: true});\n}}\n\n// Listen for the clearing of the current output cell\nvar outputEl = gd.closest('.output');\nif (outputEl) {{\n    x.observe(outputEl, {childList: true});\n}}\n\n                        })\n                };\n                \n            </script>\n        </div>\n</body>\n</html>"
     },
     "execution_count": 158,
     "metadata": {
     },
     "output_type": "execute_result"
    }
   ],
   "source": [
    "fig = go.Figure()\n",
    "\n",
    "\n",
    "fig.add_trace(go.Scatter3d(x=t['TPLUS'], y=t['Y'], z=t['MODE_C'], name='true data', mode='lines',line_width=2))\n",
    "#fig.add_trace(go.Scatter3d(x=c['TPLUS'], y=c['Y'], z=c['MODE_C'], name='given data', mode='lines+markers',line_width=2, marker_size=4))\n",
    "#fig.add_trace(go.Scatter3d(x=n['TPLUS'], y=n['Y'], z=n['MODE_C'], name='PCHIP', mode='lines+markers',line_width=2, marker_size=2))\n",
    "#fig.add_trace(go.Scatter3d(x=o['TPLUS'], y=o['Y'], z=o['MODE_C'], name='RDP over PCHIP', mode='lines+markers',line_width=2, marker_size=2))\n",
    "fig.add_trace(go.Scatter3d(x=o['TPLUS'], y=o['Y'], z=o['MODE_C'], name='RDP e=5', mode='lines+markers',line_width=2, marker_size=2))\n",
    "fig.update_traces(marker_line_width=0)\n",
    "\n",
    "\n",
    "fig.show()\n",
    "\n",
    "fig.write_html(\"interpolate.html\")"
   ]
  },
  {
   "cell_type": "code",
   "execution_count": 0,
   "metadata": {
    "collapsed": false
   },
   "outputs": [
   ],
   "source": [
   ]
  }
 ],
 "metadata": {
  "kernelspec": {
   "display_name": "Python 3 (system-wide)",
   "language": "python",
   "metadata": {
    "cocalc": {
     "description": "Python 3 programming language",
     "priority": 100,
     "url": "https://www.python.org/"
    }
   },
   "name": "python3"
  },
  "language_info": {
   "codemirror_mode": {
    "name": "ipython",
    "version": 3
   },
   "file_extension": ".py",
   "mimetype": "text/x-python",
   "name": "python",
   "nbconvert_exporter": "python",
   "pygments_lexer": "ipython3",
   "version": "3.6.9"
  }
 },
 "nbformat": 4,
 "nbformat_minor": 0
}